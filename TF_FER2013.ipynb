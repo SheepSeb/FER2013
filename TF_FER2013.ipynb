{
 "cells": [
  {
   "cell_type": "code",
   "execution_count": 1,
   "metadata": {},
   "outputs": [],
   "source": [
    "import tensorflow as tf\n",
    "import numpy as np\n",
    "import os\n",
    "import cv2\n",
    "import matplotlib.pyplot as plt"
   ]
  },
  {
   "cell_type": "code",
   "execution_count": 6,
   "metadata": {},
   "outputs": [],
   "source": [
    "## Define train and test paths\n",
    "train_path = './FRE2013/train'\n",
    "test_path = './FRE2013/test'"
   ]
  },
  {
   "cell_type": "code",
   "execution_count": 10,
   "metadata": {},
   "outputs": [],
   "source": [
    "from datetime import datetime\n",
    "from packaging import version"
   ]
  },
  {
   "cell_type": "code",
   "execution_count": 11,
   "metadata": {},
   "outputs": [],
   "source": [
    "from tensorflow.keras.preprocessing.image import ImageDataGenerator\n",
    "from tensorflow import keras\n",
    "from tensorflow.keras import Sequential\n",
    "from tensorflow.keras.layers import Dense,Flatten,MaxPool2D,Conv2D,Dropout,MaxPooling2D,BatchNormalization\n",
    "from tensorflow.keras.preprocessing import image_dataset_from_directory\n",
    "from tensorflow.keras.preprocessing.image import ImageDataGenerator\n",
    "from keras import regularizers"
   ]
  },
  {
   "cell_type": "code",
   "execution_count": 13,
   "metadata": {},
   "outputs": [
    {
     "name": "stdout",
     "output_type": "stream",
     "text": [
      "The tensorboard extension is already loaded. To reload it, use:\n",
      "  %reload_ext tensorboard\n"
     ]
    },
    {
     "data": {
      "text/plain": [
       "'2.9.1'"
      ]
     },
     "execution_count": 13,
     "metadata": {},
     "output_type": "execute_result"
    }
   ],
   "source": [
    "%load_ext tensorboard\n",
    "import tensorboard\n",
    "tensorboard.__version__"
   ]
  },
  {
   "cell_type": "code",
   "execution_count": 14,
   "metadata": {},
   "outputs": [],
   "source": [
    "!rm -rf ./logs/"
   ]
  },
  {
   "cell_type": "code",
   "execution_count": 15,
   "metadata": {},
   "outputs": [],
   "source": [
    "logdir=\"logs/fit/\" + datetime.now().strftime(\"%Y%m%d-%H%M%S\")\n",
    "tensorboard_callback = keras.callbacks.TensorBoard(log_dir=logdir)"
   ]
  },
  {
   "cell_type": "code",
   "execution_count": 16,
   "metadata": {},
   "outputs": [
    {
     "name": "stdout",
     "output_type": "stream",
     "text": [
      "Found 28709 images belonging to 7 classes.\n",
      "Found 7178 images belonging to 7 classes.\n"
     ]
    }
   ],
   "source": [
    "train_set=ImageDataGenerator().flow_from_directory(train_path,\n",
    "                                             target_size=(48,48),\n",
    "                                             batch_size=32,\n",
    "                                             color_mode='grayscale',\n",
    "                                             class_mode='categorical')\n",
    "test_set=ImageDataGenerator().flow_from_directory(test_path,\n",
    "                                             target_size=(48,48),\n",
    "                                             batch_size=32,\n",
    "                                             color_mode='grayscale',\n",
    "                                             class_mode='categorical')"
   ]
  },
  {
   "cell_type": "code",
   "execution_count": 29,
   "metadata": {},
   "outputs": [],
   "source": [
    "filter_size = 2\n",
    "num_convolutions = 128 \n",
    "num_strides = 2"
   ]
  },
  {
   "cell_type": "code",
   "execution_count": 38,
   "metadata": {},
   "outputs": [],
   "source": [
    "model=Sequential()\n",
    "\n",
    "model.add(Conv2D(num_convolutions,(filter_size,filter_size),activation=\"relu\",input_shape=(48,48,1)))\n",
    "model.add(MaxPool2D(pool_size=(2,2),strides=num_strides))\n",
    "\n",
    "model.add(Conv2D(num_convolutions,(filter_size,filter_size),activation=\"relu\",input_shape=(48,48,1)))\n",
    "model.add(MaxPool2D(pool_size=(2,2),strides=num_strides))\n",
    "\n",
    "model.add(Conv2D(num_convolutions,(filter_size,filter_size),activation=\"relu\",input_shape=(48,48,1)))\n",
    "model.add(MaxPool2D(pool_size=(2,2),strides=num_strides))\n",
    "\n",
    "model.add(Conv2D(num_convolutions,(filter_size,filter_size),activation=\"relu\",input_shape=(48,48,1)))\n",
    "model.add(MaxPool2D(pool_size=(2,2),strides=num_strides))\n",
    "\n",
    "model.add(Flatten())\n",
    "model.add(tf.keras.layers.Dense(124,activation='relu'))\n",
    "model.add(tf.keras.layers.Dropout(0.15))\n",
    "  #Dense 2\n",
    "model.add(tf.keras.layers.Dense(256,activation='relu'))\n",
    "model.add(tf.keras.layers.Dropout(0.5))\n",
    "  \n",
    "  #Output Layer\n",
    "model.add(tf.keras.layers.Dense(7,activation = 'softmax'))\n",
    "#model.add(Dense(256, activation='tanh'))\n",
    "#model.add(Dropout(0.25))\n",
    "\n",
    "#model.add(Dense(128, activation='relu'))\n",
    "#model.add(Dropout(0.25))\n",
    "\n",
    "    \n",
    "# model.add(Dense(7, activation='softmax'))"
   ]
  },
  {
   "cell_type": "code",
   "execution_count": 39,
   "metadata": {},
   "outputs": [
    {
     "name": "stdout",
     "output_type": "stream",
     "text": [
      "Model: \"sequential_7\"\n",
      "_________________________________________________________________\n",
      " Layer (type)                Output Shape              Param #   \n",
      "=================================================================\n",
      " conv2d_28 (Conv2D)          (None, 47, 47, 128)       640       \n",
      "                                                                 \n",
      " max_pooling2d_25 (MaxPoolin  (None, 23, 23, 128)      0         \n",
      " g2D)                                                            \n",
      "                                                                 \n",
      " conv2d_29 (Conv2D)          (None, 22, 22, 128)       65664     \n",
      "                                                                 \n",
      " max_pooling2d_26 (MaxPoolin  (None, 11, 11, 128)      0         \n",
      " g2D)                                                            \n",
      "                                                                 \n",
      " conv2d_30 (Conv2D)          (None, 10, 10, 128)       65664     \n",
      "                                                                 \n",
      " max_pooling2d_27 (MaxPoolin  (None, 5, 5, 128)        0         \n",
      " g2D)                                                            \n",
      "                                                                 \n",
      " conv2d_31 (Conv2D)          (None, 4, 4, 128)         65664     \n",
      "                                                                 \n",
      " max_pooling2d_28 (MaxPoolin  (None, 2, 2, 128)        0         \n",
      " g2D)                                                            \n",
      "                                                                 \n",
      " flatten_6 (Flatten)         (None, 512)               0         \n",
      "                                                                 \n",
      " dense_20 (Dense)            (None, 124)               63612     \n",
      "                                                                 \n",
      " dropout_13 (Dropout)        (None, 124)               0         \n",
      "                                                                 \n",
      " dense_21 (Dense)            (None, 256)               32000     \n",
      "                                                                 \n",
      " dropout_14 (Dropout)        (None, 256)               0         \n",
      "                                                                 \n",
      " dense_22 (Dense)            (None, 7)                 1799      \n",
      "                                                                 \n",
      "=================================================================\n",
      "Total params: 295,043\n",
      "Trainable params: 295,043\n",
      "Non-trainable params: 0\n",
      "_________________________________________________________________\n"
     ]
    }
   ],
   "source": [
    "model.compile(optimizer='adam',loss='categorical_crossentropy',metrics=['accuracy'])\n",
    "model.summary()"
   ]
  },
  {
   "cell_type": "code",
   "execution_count": 40,
   "metadata": {},
   "outputs": [
    {
     "name": "stdout",
     "output_type": "stream",
     "text": [
      "Epoch 1/120\n",
      "898/898 [==============================] - 12s 13ms/step - loss: 1.8394 - accuracy: 0.2446 - val_loss: 1.7617 - val_accuracy: 0.2749\n",
      "Epoch 2/120\n",
      "898/898 [==============================] - 12s 13ms/step - loss: 1.6956 - accuracy: 0.3114 - val_loss: 1.5412 - val_accuracy: 0.3965\n",
      "Epoch 3/120\n",
      "898/898 [==============================] - 12s 13ms/step - loss: 1.5255 - accuracy: 0.3990 - val_loss: 1.4297 - val_accuracy: 0.4452\n",
      "Epoch 4/120\n",
      "898/898 [==============================] - 12s 13ms/step - loss: 1.4208 - accuracy: 0.4473 - val_loss: 1.3812 - val_accuracy: 0.4599\n",
      "Epoch 5/120\n",
      "898/898 [==============================] - 12s 13ms/step - loss: 1.3563 - accuracy: 0.4801 - val_loss: 1.3658 - val_accuracy: 0.4688\n",
      "Epoch 6/120\n",
      "898/898 [==============================] - 12s 13ms/step - loss: 1.3090 - accuracy: 0.4955 - val_loss: 1.3130 - val_accuracy: 0.4930\n",
      "Epoch 7/120\n",
      "898/898 [==============================] - 12s 13ms/step - loss: 1.2696 - accuracy: 0.5161 - val_loss: 1.2867 - val_accuracy: 0.5153\n",
      "Epoch 8/120\n",
      "898/898 [==============================] - 12s 13ms/step - loss: 1.2348 - accuracy: 0.5289 - val_loss: 1.2638 - val_accuracy: 0.5248\n",
      "Epoch 9/120\n",
      "898/898 [==============================] - 12s 13ms/step - loss: 1.2011 - accuracy: 0.5456 - val_loss: 1.2799 - val_accuracy: 0.5146\n",
      "Epoch 10/120\n",
      "898/898 [==============================] - 12s 13ms/step - loss: 1.1685 - accuracy: 0.5606 - val_loss: 1.2727 - val_accuracy: 0.5245\n",
      "Epoch 11/120\n",
      "898/898 [==============================] - 12s 13ms/step - loss: 1.1401 - accuracy: 0.5656 - val_loss: 1.2910 - val_accuracy: 0.5054\n",
      "Epoch 12/120\n",
      "898/898 [==============================] - 12s 13ms/step - loss: 1.1128 - accuracy: 0.5794 - val_loss: 1.2621 - val_accuracy: 0.5284\n",
      "Epoch 13/120\n",
      "898/898 [==============================] - 12s 13ms/step - loss: 1.0848 - accuracy: 0.5889 - val_loss: 1.2623 - val_accuracy: 0.5319\n",
      "Epoch 14/120\n",
      "898/898 [==============================] - 12s 14ms/step - loss: 1.0584 - accuracy: 0.5998 - val_loss: 1.2536 - val_accuracy: 0.5340\n",
      "Epoch 15/120\n",
      "898/898 [==============================] - 12s 13ms/step - loss: 1.0283 - accuracy: 0.6141 - val_loss: 1.2628 - val_accuracy: 0.5301\n",
      "Epoch 16/120\n",
      "898/898 [==============================] - 12s 13ms/step - loss: 1.0030 - accuracy: 0.6229 - val_loss: 1.2746 - val_accuracy: 0.5306\n",
      "Epoch 17/120\n",
      "898/898 [==============================] - 12s 13ms/step - loss: 0.9755 - accuracy: 0.6315 - val_loss: 1.2942 - val_accuracy: 0.5305\n",
      "Epoch 18/120\n",
      "898/898 [==============================] - 12s 13ms/step - loss: 0.9470 - accuracy: 0.6439 - val_loss: 1.2965 - val_accuracy: 0.5371\n",
      "Epoch 19/120\n",
      "898/898 [==============================] - 12s 13ms/step - loss: 0.9324 - accuracy: 0.6519 - val_loss: 1.3157 - val_accuracy: 0.5325\n",
      "Epoch 20/120\n",
      "898/898 [==============================] - 12s 14ms/step - loss: 0.9097 - accuracy: 0.6645 - val_loss: 1.3650 - val_accuracy: 0.5368\n",
      "Epoch 21/120\n",
      "898/898 [==============================] - 12s 13ms/step - loss: 0.8687 - accuracy: 0.6743 - val_loss: 1.3487 - val_accuracy: 0.5428\n",
      "Epoch 22/120\n",
      "898/898 [==============================] - 12s 13ms/step - loss: 0.8550 - accuracy: 0.6799 - val_loss: 1.4019 - val_accuracy: 0.5354\n",
      "Epoch 23/120\n",
      "898/898 [==============================] - 12s 13ms/step - loss: 0.8195 - accuracy: 0.6941 - val_loss: 1.4146 - val_accuracy: 0.5281\n",
      "Epoch 24/120\n",
      "898/898 [==============================] - 12s 13ms/step - loss: 0.8084 - accuracy: 0.6991 - val_loss: 1.4522 - val_accuracy: 0.5407\n",
      "Epoch 25/120\n",
      "898/898 [==============================] - 12s 13ms/step - loss: 0.7871 - accuracy: 0.7080 - val_loss: 1.4408 - val_accuracy: 0.5309\n",
      "Epoch 26/120\n",
      "898/898 [==============================] - 11s 13ms/step - loss: 0.7646 - accuracy: 0.7128 - val_loss: 1.4666 - val_accuracy: 0.5393\n",
      "Epoch 27/120\n",
      "898/898 [==============================] - 12s 13ms/step - loss: 0.7556 - accuracy: 0.7197 - val_loss: 1.4918 - val_accuracy: 0.5373\n",
      "Epoch 28/120\n",
      "898/898 [==============================] - 12s 14ms/step - loss: 0.7312 - accuracy: 0.7332 - val_loss: 1.5843 - val_accuracy: 0.5312\n",
      "Epoch 29/120\n",
      "898/898 [==============================] - 12s 13ms/step - loss: 0.7220 - accuracy: 0.7361 - val_loss: 1.5843 - val_accuracy: 0.5308\n",
      "Epoch 30/120\n",
      "898/898 [==============================] - 12s 14ms/step - loss: 0.7085 - accuracy: 0.7402 - val_loss: 1.6074 - val_accuracy: 0.5364\n",
      "Epoch 31/120\n",
      "898/898 [==============================] - 12s 13ms/step - loss: 0.6748 - accuracy: 0.7507 - val_loss: 1.6463 - val_accuracy: 0.5295\n",
      "Epoch 32/120\n",
      "898/898 [==============================] - 12s 13ms/step - loss: 0.6680 - accuracy: 0.7545 - val_loss: 1.6705 - val_accuracy: 0.5341\n",
      "Epoch 33/120\n",
      "898/898 [==============================] - 12s 13ms/step - loss: 0.6414 - accuracy: 0.7664 - val_loss: 1.7280 - val_accuracy: 0.5276\n",
      "Epoch 34/120\n",
      "391/898 [============>.................] - ETA: 5s - loss: 0.5960 - accuracy: 0.7840"
     ]
    },
    {
     "ename": "KeyboardInterrupt",
     "evalue": "",
     "output_type": "error",
     "traceback": [
      "\u001b[1;31m---------------------------------------------------------------------------\u001b[0m",
      "\u001b[1;31mKeyboardInterrupt\u001b[0m                         Traceback (most recent call last)",
      "\u001b[1;32mc:\\Users\\naese\\OneDrive\\Desktop\\Repos\\TF_FER2013\\TF_FER2013.ipynb Cell 12\u001b[0m in \u001b[0;36m<cell line: 1>\u001b[1;34m()\u001b[0m\n\u001b[1;32m----> <a href='vscode-notebook-cell:/c%3A/Users/naese/OneDrive/Desktop/Repos/TF_FER2013/TF_FER2013.ipynb#ch0000008?line=0'>1</a>\u001b[0m history\u001b[39m=\u001b[39mmodel\u001b[39m.\u001b[39;49mfit(train_set,epochs\u001b[39m=\u001b[39;49m\u001b[39m120\u001b[39;49m,validation_data\u001b[39m=\u001b[39;49mtest_set,batch_size\u001b[39m=\u001b[39;49m\u001b[39m32\u001b[39;49m,callbacks\u001b[39m=\u001b[39;49m[tensorboard_callback])\n",
      "File \u001b[1;32mc:\\ProgramData\\Anaconda3\\lib\\site-packages\\keras\\utils\\traceback_utils.py:64\u001b[0m, in \u001b[0;36mfilter_traceback.<locals>.error_handler\u001b[1;34m(*args, **kwargs)\u001b[0m\n\u001b[0;32m     62\u001b[0m filtered_tb \u001b[39m=\u001b[39m \u001b[39mNone\u001b[39;00m\n\u001b[0;32m     63\u001b[0m \u001b[39mtry\u001b[39;00m:\n\u001b[1;32m---> 64\u001b[0m   \u001b[39mreturn\u001b[39;00m fn(\u001b[39m*\u001b[39margs, \u001b[39m*\u001b[39m\u001b[39m*\u001b[39mkwargs)\n\u001b[0;32m     65\u001b[0m \u001b[39mexcept\u001b[39;00m \u001b[39mException\u001b[39;00m \u001b[39mas\u001b[39;00m e:  \u001b[39m# pylint: disable=broad-except\u001b[39;00m\n\u001b[0;32m     66\u001b[0m   filtered_tb \u001b[39m=\u001b[39m _process_traceback_frames(e\u001b[39m.\u001b[39m__traceback__)\n",
      "File \u001b[1;32mc:\\ProgramData\\Anaconda3\\lib\\site-packages\\keras\\engine\\training.py:1409\u001b[0m, in \u001b[0;36mModel.fit\u001b[1;34m(self, x, y, batch_size, epochs, verbose, callbacks, validation_split, validation_data, shuffle, class_weight, sample_weight, initial_epoch, steps_per_epoch, validation_steps, validation_batch_size, validation_freq, max_queue_size, workers, use_multiprocessing)\u001b[0m\n\u001b[0;32m   1402\u001b[0m \u001b[39mwith\u001b[39;00m tf\u001b[39m.\u001b[39mprofiler\u001b[39m.\u001b[39mexperimental\u001b[39m.\u001b[39mTrace(\n\u001b[0;32m   1403\u001b[0m     \u001b[39m'\u001b[39m\u001b[39mtrain\u001b[39m\u001b[39m'\u001b[39m,\n\u001b[0;32m   1404\u001b[0m     epoch_num\u001b[39m=\u001b[39mepoch,\n\u001b[0;32m   1405\u001b[0m     step_num\u001b[39m=\u001b[39mstep,\n\u001b[0;32m   1406\u001b[0m     batch_size\u001b[39m=\u001b[39mbatch_size,\n\u001b[0;32m   1407\u001b[0m     _r\u001b[39m=\u001b[39m\u001b[39m1\u001b[39m):\n\u001b[0;32m   1408\u001b[0m   callbacks\u001b[39m.\u001b[39mon_train_batch_begin(step)\n\u001b[1;32m-> 1409\u001b[0m   tmp_logs \u001b[39m=\u001b[39m \u001b[39mself\u001b[39;49m\u001b[39m.\u001b[39;49mtrain_function(iterator)\n\u001b[0;32m   1410\u001b[0m   \u001b[39mif\u001b[39;00m data_handler\u001b[39m.\u001b[39mshould_sync:\n\u001b[0;32m   1411\u001b[0m     context\u001b[39m.\u001b[39masync_wait()\n",
      "File \u001b[1;32mc:\\ProgramData\\Anaconda3\\lib\\site-packages\\tensorflow\\python\\util\\traceback_utils.py:150\u001b[0m, in \u001b[0;36mfilter_traceback.<locals>.error_handler\u001b[1;34m(*args, **kwargs)\u001b[0m\n\u001b[0;32m    148\u001b[0m filtered_tb \u001b[39m=\u001b[39m \u001b[39mNone\u001b[39;00m\n\u001b[0;32m    149\u001b[0m \u001b[39mtry\u001b[39;00m:\n\u001b[1;32m--> 150\u001b[0m   \u001b[39mreturn\u001b[39;00m fn(\u001b[39m*\u001b[39margs, \u001b[39m*\u001b[39m\u001b[39m*\u001b[39mkwargs)\n\u001b[0;32m    151\u001b[0m \u001b[39mexcept\u001b[39;00m \u001b[39mException\u001b[39;00m \u001b[39mas\u001b[39;00m e:\n\u001b[0;32m    152\u001b[0m   filtered_tb \u001b[39m=\u001b[39m _process_traceback_frames(e\u001b[39m.\u001b[39m__traceback__)\n",
      "File \u001b[1;32mc:\\ProgramData\\Anaconda3\\lib\\site-packages\\tensorflow\\python\\eager\\def_function.py:915\u001b[0m, in \u001b[0;36mFunction.__call__\u001b[1;34m(self, *args, **kwds)\u001b[0m\n\u001b[0;32m    912\u001b[0m compiler \u001b[39m=\u001b[39m \u001b[39m\"\u001b[39m\u001b[39mxla\u001b[39m\u001b[39m\"\u001b[39m \u001b[39mif\u001b[39;00m \u001b[39mself\u001b[39m\u001b[39m.\u001b[39m_jit_compile \u001b[39melse\u001b[39;00m \u001b[39m\"\u001b[39m\u001b[39mnonXla\u001b[39m\u001b[39m\"\u001b[39m\n\u001b[0;32m    914\u001b[0m \u001b[39mwith\u001b[39;00m OptionalXlaContext(\u001b[39mself\u001b[39m\u001b[39m.\u001b[39m_jit_compile):\n\u001b[1;32m--> 915\u001b[0m   result \u001b[39m=\u001b[39m \u001b[39mself\u001b[39m\u001b[39m.\u001b[39m_call(\u001b[39m*\u001b[39margs, \u001b[39m*\u001b[39m\u001b[39m*\u001b[39mkwds)\n\u001b[0;32m    917\u001b[0m new_tracing_count \u001b[39m=\u001b[39m \u001b[39mself\u001b[39m\u001b[39m.\u001b[39mexperimental_get_tracing_count()\n\u001b[0;32m    918\u001b[0m without_tracing \u001b[39m=\u001b[39m (tracing_count \u001b[39m==\u001b[39m new_tracing_count)\n",
      "File \u001b[1;32mc:\\ProgramData\\Anaconda3\\lib\\site-packages\\tensorflow\\python\\eager\\def_function.py:947\u001b[0m, in \u001b[0;36mFunction._call\u001b[1;34m(self, *args, **kwds)\u001b[0m\n\u001b[0;32m    944\u001b[0m   \u001b[39mself\u001b[39m\u001b[39m.\u001b[39m_lock\u001b[39m.\u001b[39mrelease()\n\u001b[0;32m    945\u001b[0m   \u001b[39m# In this case we have created variables on the first call, so we run the\u001b[39;00m\n\u001b[0;32m    946\u001b[0m   \u001b[39m# defunned version which is guaranteed to never create variables.\u001b[39;00m\n\u001b[1;32m--> 947\u001b[0m   \u001b[39mreturn\u001b[39;00m \u001b[39mself\u001b[39m\u001b[39m.\u001b[39m_stateless_fn(\u001b[39m*\u001b[39margs, \u001b[39m*\u001b[39m\u001b[39m*\u001b[39mkwds)  \u001b[39m# pylint: disable=not-callable\u001b[39;00m\n\u001b[0;32m    948\u001b[0m \u001b[39melif\u001b[39;00m \u001b[39mself\u001b[39m\u001b[39m.\u001b[39m_stateful_fn \u001b[39mis\u001b[39;00m \u001b[39mnot\u001b[39;00m \u001b[39mNone\u001b[39;00m:\n\u001b[0;32m    949\u001b[0m   \u001b[39m# Release the lock early so that multiple threads can perform the call\u001b[39;00m\n\u001b[0;32m    950\u001b[0m   \u001b[39m# in parallel.\u001b[39;00m\n\u001b[0;32m    951\u001b[0m   \u001b[39mself\u001b[39m\u001b[39m.\u001b[39m_lock\u001b[39m.\u001b[39mrelease()\n",
      "File \u001b[1;32mc:\\ProgramData\\Anaconda3\\lib\\site-packages\\tensorflow\\python\\eager\\function.py:2453\u001b[0m, in \u001b[0;36mFunction.__call__\u001b[1;34m(self, *args, **kwargs)\u001b[0m\n\u001b[0;32m   2450\u001b[0m \u001b[39mwith\u001b[39;00m \u001b[39mself\u001b[39m\u001b[39m.\u001b[39m_lock:\n\u001b[0;32m   2451\u001b[0m   (graph_function,\n\u001b[0;32m   2452\u001b[0m    filtered_flat_args) \u001b[39m=\u001b[39m \u001b[39mself\u001b[39m\u001b[39m.\u001b[39m_maybe_define_function(args, kwargs)\n\u001b[1;32m-> 2453\u001b[0m \u001b[39mreturn\u001b[39;00m graph_function\u001b[39m.\u001b[39;49m_call_flat(\n\u001b[0;32m   2454\u001b[0m     filtered_flat_args, captured_inputs\u001b[39m=\u001b[39;49mgraph_function\u001b[39m.\u001b[39;49mcaptured_inputs)\n",
      "File \u001b[1;32mc:\\ProgramData\\Anaconda3\\lib\\site-packages\\tensorflow\\python\\eager\\function.py:1860\u001b[0m, in \u001b[0;36mConcreteFunction._call_flat\u001b[1;34m(self, args, captured_inputs, cancellation_manager)\u001b[0m\n\u001b[0;32m   1856\u001b[0m possible_gradient_type \u001b[39m=\u001b[39m gradients_util\u001b[39m.\u001b[39mPossibleTapeGradientTypes(args)\n\u001b[0;32m   1857\u001b[0m \u001b[39mif\u001b[39;00m (possible_gradient_type \u001b[39m==\u001b[39m gradients_util\u001b[39m.\u001b[39mPOSSIBLE_GRADIENT_TYPES_NONE\n\u001b[0;32m   1858\u001b[0m     \u001b[39mand\u001b[39;00m executing_eagerly):\n\u001b[0;32m   1859\u001b[0m   \u001b[39m# No tape is watching; skip to running the function.\u001b[39;00m\n\u001b[1;32m-> 1860\u001b[0m   \u001b[39mreturn\u001b[39;00m \u001b[39mself\u001b[39m\u001b[39m.\u001b[39m_build_call_outputs(\u001b[39mself\u001b[39;49m\u001b[39m.\u001b[39;49m_inference_function\u001b[39m.\u001b[39;49mcall(\n\u001b[0;32m   1861\u001b[0m       ctx, args, cancellation_manager\u001b[39m=\u001b[39;49mcancellation_manager))\n\u001b[0;32m   1862\u001b[0m forward_backward \u001b[39m=\u001b[39m \u001b[39mself\u001b[39m\u001b[39m.\u001b[39m_select_forward_and_backward_functions(\n\u001b[0;32m   1863\u001b[0m     args,\n\u001b[0;32m   1864\u001b[0m     possible_gradient_type,\n\u001b[0;32m   1865\u001b[0m     executing_eagerly)\n\u001b[0;32m   1866\u001b[0m forward_function, args_with_tangents \u001b[39m=\u001b[39m forward_backward\u001b[39m.\u001b[39mforward()\n",
      "File \u001b[1;32mc:\\ProgramData\\Anaconda3\\lib\\site-packages\\tensorflow\\python\\eager\\function.py:497\u001b[0m, in \u001b[0;36m_EagerDefinedFunction.call\u001b[1;34m(self, ctx, args, cancellation_manager)\u001b[0m\n\u001b[0;32m    495\u001b[0m \u001b[39mwith\u001b[39;00m _InterpolateFunctionError(\u001b[39mself\u001b[39m):\n\u001b[0;32m    496\u001b[0m   \u001b[39mif\u001b[39;00m cancellation_manager \u001b[39mis\u001b[39;00m \u001b[39mNone\u001b[39;00m:\n\u001b[1;32m--> 497\u001b[0m     outputs \u001b[39m=\u001b[39m execute\u001b[39m.\u001b[39;49mexecute(\n\u001b[0;32m    498\u001b[0m         \u001b[39mstr\u001b[39;49m(\u001b[39mself\u001b[39;49m\u001b[39m.\u001b[39;49msignature\u001b[39m.\u001b[39;49mname),\n\u001b[0;32m    499\u001b[0m         num_outputs\u001b[39m=\u001b[39;49m\u001b[39mself\u001b[39;49m\u001b[39m.\u001b[39;49m_num_outputs,\n\u001b[0;32m    500\u001b[0m         inputs\u001b[39m=\u001b[39;49margs,\n\u001b[0;32m    501\u001b[0m         attrs\u001b[39m=\u001b[39;49mattrs,\n\u001b[0;32m    502\u001b[0m         ctx\u001b[39m=\u001b[39;49mctx)\n\u001b[0;32m    503\u001b[0m   \u001b[39melse\u001b[39;00m:\n\u001b[0;32m    504\u001b[0m     outputs \u001b[39m=\u001b[39m execute\u001b[39m.\u001b[39mexecute_with_cancellation(\n\u001b[0;32m    505\u001b[0m         \u001b[39mstr\u001b[39m(\u001b[39mself\u001b[39m\u001b[39m.\u001b[39msignature\u001b[39m.\u001b[39mname),\n\u001b[0;32m    506\u001b[0m         num_outputs\u001b[39m=\u001b[39m\u001b[39mself\u001b[39m\u001b[39m.\u001b[39m_num_outputs,\n\u001b[1;32m   (...)\u001b[0m\n\u001b[0;32m    509\u001b[0m         ctx\u001b[39m=\u001b[39mctx,\n\u001b[0;32m    510\u001b[0m         cancellation_manager\u001b[39m=\u001b[39mcancellation_manager)\n",
      "File \u001b[1;32mc:\\ProgramData\\Anaconda3\\lib\\site-packages\\tensorflow\\python\\eager\\execute.py:54\u001b[0m, in \u001b[0;36mquick_execute\u001b[1;34m(op_name, num_outputs, inputs, attrs, ctx, name)\u001b[0m\n\u001b[0;32m     52\u001b[0m \u001b[39mtry\u001b[39;00m:\n\u001b[0;32m     53\u001b[0m   ctx\u001b[39m.\u001b[39mensure_initialized()\n\u001b[1;32m---> 54\u001b[0m   tensors \u001b[39m=\u001b[39m pywrap_tfe\u001b[39m.\u001b[39;49mTFE_Py_Execute(ctx\u001b[39m.\u001b[39;49m_handle, device_name, op_name,\n\u001b[0;32m     55\u001b[0m                                       inputs, attrs, num_outputs)\n\u001b[0;32m     56\u001b[0m \u001b[39mexcept\u001b[39;00m core\u001b[39m.\u001b[39m_NotOkStatusException \u001b[39mas\u001b[39;00m e:\n\u001b[0;32m     57\u001b[0m   \u001b[39mif\u001b[39;00m name \u001b[39mis\u001b[39;00m \u001b[39mnot\u001b[39;00m \u001b[39mNone\u001b[39;00m:\n",
      "\u001b[1;31mKeyboardInterrupt\u001b[0m: "
     ]
    }
   ],
   "source": [
    "history=model.fit(train_set,epochs=120,validation_data=test_set,batch_size=32,callbacks=[tensorboard_callback])"
   ]
  }
 ],
 "metadata": {
  "kernelspec": {
   "display_name": "Python 3.9.12 ('base')",
   "language": "python",
   "name": "python3"
  },
  "language_info": {
   "codemirror_mode": {
    "name": "ipython",
    "version": 3
   },
   "file_extension": ".py",
   "mimetype": "text/x-python",
   "name": "python",
   "nbconvert_exporter": "python",
   "pygments_lexer": "ipython3",
   "version": "3.9.12"
  },
  "orig_nbformat": 4,
  "vscode": {
   "interpreter": {
    "hash": "ad2bdc8ecc057115af97d19610ffacc2b4e99fae6737bb82f5d7fb13d2f2c186"
   }
  }
 },
 "nbformat": 4,
 "nbformat_minor": 2
}
